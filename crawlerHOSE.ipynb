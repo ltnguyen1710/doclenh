{
 "cells": [
  {
   "cell_type": "code",
   "execution_count": 38,
   "metadata": {},
   "outputs": [],
   "source": [
    "from selenium import webdriver\n",
    "from selenium.webdriver.support.ui import WebDriverWait\n",
    "from selenium.webdriver.support import expected_conditions as ec\n",
    "from selenium.webdriver.common.by import By\n",
    "from selenium.common.exceptions import TimeoutException\n",
    "from selenium.webdriver.common.desired_capabilities import DesiredCapabilities\n",
    "from selenium.webdriver.common.keys import Keys\n",
    "import csv\n",
    "import numpy as np\n",
    "from bs4 import BeautifulSoup\n",
    "\n",
    "#cai dat va chay driver chrome\n",
    "url = \"https://iboard.ssi.com.vn/bang-gia/hose\"\n",
    "driver = webdriver.Chrome(\"C:\\chromedriver.exe\")\n",
    "driver.get(url)\n"
   ]
  },
  {
   "cell_type": "code",
   "execution_count": null,
   "metadata": {},
   "outputs": [],
   "source": [
    "page_source = BeautifulSoup(driver.page_source,\"html.parser\")\n",
    "#đọc các mã chứng khoán trong file Ma_chung_khoan.txt\n",
    "Ma_chung_khoan=open(\"Ma_chung_khoan.txt\",\"r\")\n",
    "Ma_CK=Ma_chung_khoan.readlines()\n",
    "Ma_chung_khoan.close() \n",
    "#loại bỏ dấu  \",\"\n",
    "Ma_CK=Ma_CK[0].split(',')\n",
    "\n",
    "#crawl từ những mã trong file\n",
    "for mck in Ma_CK:\n",
    "    info_tr=page_source.find('tr', id=mck)\n",
    "    info_td=info_tr.findAll('td')\n",
    "    for i in range(26):\n",
    "        if info_td[i].get_text()=='':\n",
    "            print('none')\n",
    "        else:\n",
    "            print(info_td[i].get_text())      \n",
    "\n",
    "\n"
   ]
  }
 ],
 "metadata": {
  "interpreter": {
   "hash": "45b403d47d86868877d284a36c0498b0cd2d0661dec2a16f43bde3b87835bdda"
  },
  "kernelspec": {
   "display_name": "Python 3.9.7 64-bit (windows store)",
   "name": "python3"
  },
  "language_info": {
   "codemirror_mode": {
    "name": "ipython",
    "version": 3
   },
   "file_extension": ".py",
   "mimetype": "text/x-python",
   "name": "python",
   "nbconvert_exporter": "python",
   "pygments_lexer": "ipython3",
   "version": "3.9.7"
  },
  "orig_nbformat": 4
 },
 "nbformat": 4,
 "nbformat_minor": 2
}
