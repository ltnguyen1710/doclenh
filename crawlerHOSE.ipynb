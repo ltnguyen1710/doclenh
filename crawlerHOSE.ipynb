{
 "cells": [
  {
   "cell_type": "code",
   "execution_count": 3,
   "metadata": {},
   "outputs": [],
   "source": [
    "from selenium import webdriver\n",
    "from selenium.webdriver.support.ui import WebDriverWait\n",
    "from selenium.webdriver.support import expected_conditions as ec\n",
    "from selenium.webdriver.common.by import By\n",
    "from selenium.common.exceptions import TimeoutException\n",
    "from selenium.webdriver.common.desired_capabilities import DesiredCapabilities\n",
    "from selenium.webdriver.common.keys import Keys\n",
    "import csv\n",
    "import numpy as np\n",
    "from bs4 import BeautifulSoup\n",
    "import schedule\n",
    "import time\n",
    "from datetime import datetime\n",
    "#Thư viện để dừng schedule\n",
    "import sys\n",
    "import os\n",
    "import signal\n",
    "\n",
    "#Cài đặt và chạy chrom\n",
    "url = \"https://iboard.ssi.com.vn/bang-gia/hose\"\n",
    "driver = webdriver.Chrome(\"C:\\chromedriver.exe\")\n",
    "driver.get(url)\n",
    "#C:\\Program Files (x86)\\mingw-w64\\i686-8.1.0-posix-dwarf-rt_v6-rev0\\mingw32\\opt\\bin\n",
    "\n",
    "#Đọc các mã chứng khoán trong file Ma_chung_khoan.txt\n",
    "Ma_chung_khoan=open(\"Ma_chung_khoan.txt\",\"r\")\n",
    "Ma_CK=Ma_chung_khoan.readlines()\n",
    "Ma_chung_khoan.close() \n",
    "#loại bỏ dấu  \",\"\n",
    "Ma_CK=Ma_CK[0].split(',')\n",
    "\n"
   ]
  },
  {
   "cell_type": "code",
   "execution_count": 4,
   "metadata": {},
   "outputs": [],
   "source": [
    "#Xử lí lưu file\n",
    "def xu_ly_file(a,mck):\n",
    "        #Đường link file cào, sys.path[0] là đường dẫn thư mục của code         \n",
    "        save_path = sys.path[0].replace('\\\\','/')+'/DATA_HOSE/'+mck\n",
    "        #Kiểm tra xem đã có folder đó chưa, nếu chưa thì tạo mới\n",
    "        if not os.path.exists(save_path):\n",
    "            os.makedirs(save_path)\n",
    "        #Tên file.csv: Mã chứng khoán + ngày tháng năm\n",
    "        completeName = os.path.join(save_path,mck+\"_\"+datetime.today().strftime('%d_%m_%Y')+\".csv\")\n",
    "        #sửa mode w+ thành mode a để viết được vào cuối file\n",
    "        file = open(completeName,\"a\",)\n",
    "        with file:\n",
    "            write = csv.writer(file)\n",
    "            write.writerows(np.array(a).reshape(-1,26))\n",
    "#Crawl Mã\n",
    "def job():\n",
    "    #download sourse html page\n",
    "    page_source = BeautifulSoup(driver.page_source,\"html.parser\")\n",
    "    \n",
    "    for mck in Ma_CK:\n",
    "        a=[]\n",
    "        info_tr=page_source.find('tr', id=mck)\n",
    "        info_td=info_tr.findAll('td')\n",
    "        for i in range(26):\n",
    "            if info_td[i].get_text()=='':\n",
    "                a.extend(\"N\")\n",
    "            else:\n",
    "                a.append(info_td[i].get_text())\n",
    "        xu_ly_file(a,mck)\n",
    "#Thoát file\n",
    "def exit():\n",
    "    os.kill(os.getpid(), signal.SIGTERM)\n",
    "    os.exit()\n",
    "    raise SystemExit(\"Stop right there!\")\n"
   ]
  },
  {
   "cell_type": "code",
   "execution_count": 5,
   "metadata": {},
   "outputs": [],
   "source": [
    "#hàm này để lồng được chạy từng giây\n",
    "def anotherjob():\n",
    "    schedule.every(1).second.do(job)\n",
    "#dòng này để chạy mỗi ngày vào giờ nào đó\n",
    "schedule.every().day.at(\"12:35\").do(anotherjob)\n",
    "#Dòng này để dừng vào giờ nào đó\n",
    "schedule.every().day.at(\"12:36\").do(exit)\n",
    "#vòng while này kiểm tra mỗi giây coi đúng với tgian mình muốn để thực hiện hay chưa\n",
    "while True:\n",
    "    schedule.run_pending()\n",
    "    time.sleep(1)\n"
   ]
  }
 ],
 "metadata": {
  "interpreter": {
   "hash": "45b403d47d86868877d284a36c0498b0cd2d0661dec2a16f43bde3b87835bdda"
  },
  "kernelspec": {
   "display_name": "Python 3.9.7 64-bit (windows store)",
   "name": "python3"
  },
  "language_info": {
   "codemirror_mode": {
    "name": "ipython",
    "version": 3
   },
   "file_extension": ".py",
   "mimetype": "text/x-python",
   "name": "python",
   "nbconvert_exporter": "python",
   "pygments_lexer": "ipython3",
   "version": "3.9.7"
  },
  "orig_nbformat": 4
 },
 "nbformat": 4,
 "nbformat_minor": 2
}
