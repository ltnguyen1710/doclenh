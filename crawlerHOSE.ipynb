{
 "cells": [
  {
   "cell_type": "code",
   "execution_count": 1,
   "metadata": {},
   "outputs": [],
   "source": [
    "from selenium import webdriver\n",
    "from selenium.webdriver.support.ui import WebDriverWait\n",
    "from selenium.webdriver.support import expected_conditions as ec\n",
    "from selenium.webdriver.common.by import By\n",
    "from selenium.common.exceptions import TimeoutException\n",
    "from selenium.webdriver.common.desired_capabilities import DesiredCapabilities\n",
    "from selenium.webdriver.common.keys import Keys\n",
    "import csv\n",
    "import numpy as np\n",
    "#cai dat va chay driver chrome\n",
    "url = \"https://iboard.ssi.com.vn/bang-gia/hose\"\n",
    "driver = webdriver.Chrome(\"E:\\chromedriver_win32\\chromedriver.exe\")\n",
    "driver.get(url)\n"
   ]
  },
  {
   "cell_type": "code",
   "execution_count": 5,
   "metadata": {},
   "outputs": [],
   "source": [
    "#lấy dữ liệu từ web\n",
    "all_data = driver.find_elements_by_class_name(\"table-body\")\n",
    "#đưa dữ liệu thành ma trận 1 dòng và n cột\n",
    "title = all_data[0].text.split('$')\n",
    "title = all_data[0].text.split('\\n')\n",
    "title = np.array(title).reshape(1,len(title))\n",
    "#ghi file\n",
    "file = open(\"datahose.csv\",\"w+\")\n",
    "with file:    \n",
    "    write = csv.writer(file)\n",
    "    write.writerows(title)\n",
    "#in ra để test\n",
    "print(title[0][0])\n"
   ]
  }
 ],
 "metadata": {
  "interpreter": {
   "hash": "63fd5069d213b44bf678585dea6b12cceca9941eaf7f819626cde1f2670de90d"
  },
  "kernelspec": {
   "display_name": "Python 3.9.6 64-bit",
   "name": "python3"
  },
  "language_info": {
   "codemirror_mode": {
    "name": "ipython",
    "version": 3
   },
   "file_extension": ".py",
   "mimetype": "text/x-python",
   "name": "python",
   "nbconvert_exporter": "python",
   "pygments_lexer": "ipython3",
   "version": "3.9.6"
  },
  "orig_nbformat": 4
 },
 "nbformat": 4,
 "nbformat_minor": 2
}
