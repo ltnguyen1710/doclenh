{
 "cells": [
  {
   "cell_type": "code",
   "execution_count": 1,
   "metadata": {},
   "outputs": [],
   "source": [
    "from selenium import webdriver\n",
    "from selenium.webdriver.support.ui import WebDriverWait\n",
    "from selenium.webdriver.support import expected_conditions as ec\n",
    "from selenium.webdriver.common.by import By\n",
    "from selenium.common.exceptions import TimeoutException\n",
    "from selenium.webdriver.common.desired_capabilities import DesiredCapabilities\n",
    "from selenium.webdriver.common.keys import Keys\n",
    "import csv\n",
    "import numpy as np\n",
    "from bs4 import BeautifulSoup\n",
    "import schedule\n",
    "import time\n",
    "from datetime import datetime\n",
    "#Thư viện để dừng schedule\n",
    "import sys\n",
    "import os\n",
    "import signal\n",
    "\n",
    "#Cài đặt và chạy chrom\n",
    "url = \"https://iboard.ssi.com.vn/bang-gia/hose\"\n",
    "driver = webdriver.Chrome(\"E:\\chromedriver_win32\\chromedriver.exe\")\n",
    "driver.get(url)\n",
    "#C:\\Program Files (x86)\\mingw-w64\\i686-8.1.0-posix-dwarf-rt_v6-rev0\\mingw32\\opt\\bin\n",
    "\n",
    "#Đọc các mã chứng khoán trong file Ma_chung_khoan.txt\n",
    "Ma_chung_khoan=open(\"Ma_chung_khoan.txt\",\"r\")\n",
    "Ma_CK=Ma_chung_khoan.readlines()\n",
    "Ma_chung_khoan.close() \n",
    "#loại bỏ dấu  \",\"\n",
    "Ma_CK=Ma_CK[0].split(',')\n",
    "\n"
   ]
  },
  {
   "cell_type": "code",
   "execution_count": 2,
   "metadata": {},
   "outputs": [],
   "source": [
    "#Xử lí lưu file\n",
    "def xu_ly_file(a,mck):\n",
    "        #Đường link file cào, sys.path[0] là đường dẫn thư mục của code         \n",
    "        save_path = sys.path[0].replace('\\\\','/')+'/DATA_HOSE/'+mck\n",
    "        #Kiểm tra xem đã có folder đó chưa, nếu chưa thì tạo mới\n",
    "        if not os.path.exists(save_path):\n",
    "            os.makedirs(save_path)\n",
    "        #Tên file.csv: Mã chứng khoán + ngày tháng năm\n",
    "        completeName = os.path.join(save_path,mck+\"_\"+datetime.today().strftime('%d_%m_%Y')+\".csv\")\n",
    "        #sửa mode w+ thành mode a để viết được vào cuối file\n",
    "        file = open(completeName,\"a\",)\n",
    "        with file:\n",
    "            write = csv.writer(file)\n",
    "            write.writerows(np.array(a).reshape(-1,27))\n",
    "#Crawl Mã\n",
    "def job():\n",
    "    start_time = time.time()\n",
    "    p=str(datetime.now())\n",
    "    #download sourse html page\n",
    "    page_source = BeautifulSoup(driver.page_source,\"html.parser\")\n",
    "    for mck in Ma_CK:\n",
    "        a=[]\n",
    "        info_tr=page_source.find('tr', id=mck)\n",
    "        info_td=info_tr.findAll('td')\n",
    "        a.extend([p])\n",
    "        for i in range(26):\n",
    "            if info_td[i].get_text()=='':\n",
    "                a.extend(\"N\")\n",
    "            else:\n",
    "                a.append(info_td[i].get_text())\n",
    "        xu_ly_file(a,mck)\n",
    "    #print(\"--- %s seconds ---\" % (time.time() - start_time))    \n",
    "#Thoát file\n",
    "def exit():\n",
    "    os.kill(os.getpid(), signal.SIGTERM)\n",
    "    os.exit()\n",
    "    raise SystemExit(\"Stop right there!\")\n"
   ]
  },
  {
   "cell_type": "code",
   "execution_count": 3,
   "metadata": {},
   "outputs": [
    {
     "ename": "KeyboardInterrupt",
     "evalue": "",
     "output_type": "error",
     "traceback": [
      "\u001b[1;31m---------------------------------------------------------------------------\u001b[0m",
      "\u001b[1;31mKeyboardInterrupt\u001b[0m                         Traceback (most recent call last)",
      "\u001b[1;32m~\\AppData\\Local\\Temp/ipykernel_11016/1080713652.py\u001b[0m in \u001b[0;36m<module>\u001b[1;34m\u001b[0m\n\u001b[0;32m      9\u001b[0m \u001b[1;32mwhile\u001b[0m \u001b[1;32mTrue\u001b[0m\u001b[1;33m:\u001b[0m\u001b[1;33m\u001b[0m\u001b[1;33m\u001b[0m\u001b[0m\n\u001b[0;32m     10\u001b[0m     \u001b[0mschedule\u001b[0m\u001b[1;33m.\u001b[0m\u001b[0mrun_pending\u001b[0m\u001b[1;33m(\u001b[0m\u001b[1;33m)\u001b[0m\u001b[1;33m\u001b[0m\u001b[1;33m\u001b[0m\u001b[0m\n\u001b[1;32m---> 11\u001b[1;33m     \u001b[0mtime\u001b[0m\u001b[1;33m.\u001b[0m\u001b[0msleep\u001b[0m\u001b[1;33m(\u001b[0m\u001b[1;36m1\u001b[0m\u001b[1;33m)\u001b[0m\u001b[1;33m\u001b[0m\u001b[1;33m\u001b[0m\u001b[0m\n\u001b[0m",
      "\u001b[1;31mKeyboardInterrupt\u001b[0m: "
     ]
    }
   ],
   "source": [
    "#hàm này để lồng được chạy từng giây\n",
    "def anotherjob():\n",
    "    schedule.every(1).seconds.do(job)\n",
    "#hàm này để lồng được chạy từng giây\n",
    "def anotherjob1():\n",
    "    schedule.every(1).seconds.do(job)\n",
    "#hàm này để lồng được chạy từng giây\n",
    "def anotherjob2():\n",
    "    schedule.every(1).seconds.do(job)\n",
    "#hàm này để lồng được chạy từng giây\n",
    "def anotherjob3():\n",
    "    schedule.every(1).seconds.do(job)\n",
    "\n",
    "#dòng này để chạy mỗi ngày vào giờ nào đó\n",
    "schedule.every().day.at(\"21:56\").do(anotherjob)\n",
    "#anotherjob()\n",
    "#dòng này để chạy mỗi ngày vào giờ nào đó\n",
    "#schedule.every().day.at(\"21:06:59\").do(anotherjob1)\n",
    "#dòng này để chạy mỗi ngày vào giờ nào đó\n",
    "#schedule.every().day.at(\"21:06:58\").do(anotherjob2)\n",
    "#dòng này để chạy mỗi ngày vào giờ nào đó\n",
    "#schedule.every().day.at(\"21:06:57\").do(anotherjob3)\n",
    "schedule.every().day.at(\"21:57\").do(exit)\n",
    "#vòng while này kiểm tra mỗi giây coi đúng với tgian mình muốn để thực hiện hay chưa\n",
    "while True:\n",
    "    schedule.run_pending()\n",
    "    time.sleep(1)\n"
   ]
  }
 ],
 "metadata": {
  "interpreter": {
   "hash": "63fd5069d213b44bf678585dea6b12cceca9941eaf7f819626cde1f2670de90d"
  },
  "kernelspec": {
   "display_name": "Python 3.9.6 64-bit",
   "name": "python3"
  },
  "language_info": {
   "codemirror_mode": {
    "name": "ipython",
    "version": 3
   },
   "file_extension": ".py",
   "mimetype": "text/x-python",
   "name": "python",
   "nbconvert_exporter": "python",
   "pygments_lexer": "ipython3",
   "version": "3.9.6"
  },
  "orig_nbformat": 4
 },
 "nbformat": 4,
 "nbformat_minor": 2
}
